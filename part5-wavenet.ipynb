{
 "cells": [
  {
   "cell_type": "code",
   "execution_count": 1,
   "metadata": {},
   "outputs": [],
   "source": [
    "# Implimentation of a language model from the following research paper:\n",
    "# https://www.jmlr.org/papers/volume3/bengio03a/bengio03a.pdf\n",
    "\n",
    "import torch\n",
    "import torch.nn.functional as F\n",
    "import matplotlib.pyplot as plt\n",
    "%matplotlib inline"
   ]
  },
  {
   "cell_type": "code",
   "execution_count": 2,
   "metadata": {},
   "outputs": [
    {
     "data": {
      "text/plain": [
       "['emma', 'olivia', 'ava', 'isabella', 'sophia', 'charlotte', 'mia', 'amelia']"
      ]
     },
     "execution_count": 2,
     "metadata": {},
     "output_type": "execute_result"
    }
   ],
   "source": [
    "words = open(\"names.txt\", 'r').read().splitlines()\n",
    "words[:8]"
   ]
  },
  {
   "cell_type": "code",
   "execution_count": 3,
   "metadata": {},
   "outputs": [
    {
     "name": "stdout",
     "output_type": "stream",
     "text": [
      "{1: 'a', 2: 'b', 3: 'c', 4: 'd', 5: 'e', 6: 'f', 7: 'g', 8: 'h', 9: 'i', 10: 'j', 11: 'k', 12: 'l', 13: 'm', 14: 'n', 15: 'o', 16: 'p', 17: 'q', 18: 'r', 19: 's', 20: 't', 21: 'u', 22: 'v', 23: 'w', 24: 'x', 25: 'y', 26: 'z', 0: '.'}\n"
     ]
    }
   ],
   "source": [
    "chars = sorted(list(set(''.join(words))))\n",
    "stoi = {s:i+1 for i,s in enumerate(chars)}\n",
    "stoi['.'] = 0\n",
    "itos = {i:s for s,i in stoi.items()}\n",
    "VOCAB_SIZE = len(stoi.keys())\n",
    "print(itos)"
   ]
  },
  {
   "cell_type": "code",
   "execution_count": 4,
   "metadata": {},
   "outputs": [
    {
     "name": "stdout",
     "output_type": "stream",
     "text": [
      "torch.Size([182625, 3]) torch.Size([182625])\n",
      "torch.Size([22655, 3]) torch.Size([22655])\n",
      "torch.Size([22866, 3]) torch.Size([22866])\n"
     ]
    }
   ],
   "source": [
    "BLOCK_SIZE = 3  # Context length.  How many letters do we take to predict the next.\n",
    "\n",
    "# Build a data set.\n",
    "def build_dataset(words): \n",
    "    \"\"\"Build a data set from the given data.\n",
    "  \n",
    "    Returns: \n",
    "      torch.tensor: X inputs (context block_size long)\n",
    "      torch.tensor: Y labels\n",
    "    \"\"\"\n",
    "    X, Y = [], []\n",
    "  \n",
    "    for w in words:\n",
    "        context = [0] * BLOCK_SIZE\n",
    "        for ch in w + '.':\n",
    "            ix = stoi[ch]\n",
    "            X.append(context)\n",
    "            Y.append(ix)\n",
    "            context = context[1:] + [ix] # crop and append\n",
    "\n",
    "    X = torch.tensor(X)\n",
    "    Y = torch.tensor(Y)\n",
    "    print(X.shape, Y.shape)\n",
    "    return X, Y\n",
    "\n",
    "# Going to split the training set.\n",
    "n1 = int(0.8*len(words))  # 80% for training.\n",
    "n2 = int(0.9*len(words))  # 10% for dev, and then 10% for eval.\n",
    "\n",
    "import random\n",
    "random.seed(42)\n",
    "random.shuffle(words)\n",
    "Xtr,  Ytr  = build_dataset(words[:n1])     # 80%\n",
    "Xdev, Ydev = build_dataset(words[n1:n2])   # 10%\n",
    "Xte,  Yte  = build_dataset(words[n2:])     # 10%"
   ]
  },
  {
   "cell_type": "code",
   "execution_count": 5,
   "metadata": {},
   "outputs": [],
   "source": [
    "# Copy-paste of the data types we build previously.\n",
    "\n",
    "# The classes we create here are the same API as nn.Module in PyTorch\n",
    "class Linear:\n",
    "  \n",
    "    def __init__(self, fan_in, fan_out, bias=True):\n",
    "        self.weight = torch.randn((fan_in, fan_out), generator=g) / fan_in**0.5\n",
    "        self.bias = torch.zeros(fan_out) if bias else None\n",
    "\n",
    "    def __call__(self, x):\n",
    "        self.out = x @ self.weight\n",
    "        if self.bias is not None:\n",
    "            self.out += self.bias\n",
    "        return self.out\n",
    "\n",
    "    def parameters(self):\n",
    "        return [self.weight] + ([] if self.bias is None else [self.bias])\n",
    "\n",
    "class BatchNorm1d:\n",
    "  \n",
    "    def __init__(self, dim, eps=1e-5, momentum=0.1):\n",
    "        self.eps = eps\n",
    "        self.momentum = momentum\n",
    "        self.training = True\n",
    "        # parameters (trained with backprop)\n",
    "        self.gamma = torch.ones(dim)\n",
    "        self.beta  = torch.zeros(dim)\n",
    "        # buffers (trained with a running 'momentum update')\n",
    "        self.running_mean = torch.zeros(dim)\n",
    "        self.running_var = torch.ones(dim)\n",
    "  \n",
    "    def __call__(self, x):\n",
    "        # calculate the forward pass\n",
    "        if self.training:\n",
    "            xmean = x.mean(0, keepdim=True) # batch mean\n",
    "            xvar  = x.var( 0, keepdim=True) # batch variance\n",
    "        else:\n",
    "            xmean = self.running_mean\n",
    "            xvar = self.running_var\n",
    "        xhat = (x - xmean) / torch.sqrt(xvar + self.eps) # normalize to unit variance\n",
    "        self.out = self.gamma * xhat + self.beta\n",
    "        # update the buffers\n",
    "        if self.training:\n",
    "            with torch.no_grad():\n",
    "                self.running_mean = (1 - self.momentum) * self.running_mean + self.momentum * xmean\n",
    "                self.running_var  = (1 - self.momentum) * self.running_var  + self.momentum * xvar\n",
    "        return self.out\n",
    "  \n",
    "    def parameters(self):\n",
    "        return [self.gamma, self.beta]\n",
    "\n",
    "class Tanh:\n",
    "    def __call__(self, x):\n",
    "        self.out = torch.tanh(x)\n",
    "        return self.out\n",
    "    def parameters(self):\n",
    "        return []"
   ]
  },
  {
   "cell_type": "code",
   "execution_count": 6,
   "metadata": {},
   "outputs": [
    {
     "name": "stdout",
     "output_type": "stream",
     "text": [
      "Total params:  47024\n"
     ]
    }
   ],
   "source": [
    "# Build the network\n",
    "g = torch.Generator().manual_seed(2147483647) # for reproducibility\n",
    "EMBED_SIZE = 10\n",
    "NUM_HIDDEN_NEURONS = 100\n",
    "L1_INPUT_SIZE = EMBED_SIZE * BLOCK_SIZE\n",
    "\n",
    "C = torch.randn((VOCAB_SIZE, EMBED_SIZE),            generator=g)\n",
    "layers = [\n",
    "    # Layer 1: Input from embeddings.\n",
    "    Linear(L1_INPUT_SIZE, NUM_HIDDEN_NEURONS, bias=False),\n",
    "    BatchNorm1d(NUM_HIDDEN_NEURONS),\n",
    "    Tanh(),\n",
    "    # Layer 2\n",
    "    Linear(NUM_HIDDEN_NEURONS, NUM_HIDDEN_NEURONS, bias=False),\n",
    "    BatchNorm1d(NUM_HIDDEN_NEURONS),\n",
    "    Tanh(),\n",
    "    # Layer 3\n",
    "    Linear(NUM_HIDDEN_NEURONS, NUM_HIDDEN_NEURONS, bias=False),\n",
    "    BatchNorm1d(NUM_HIDDEN_NEURONS),\n",
    "    Tanh(),\n",
    "    # Layer 4\n",
    "    Linear(NUM_HIDDEN_NEURONS, NUM_HIDDEN_NEURONS, bias=False),\n",
    "    BatchNorm1d(NUM_HIDDEN_NEURONS),\n",
    "    Tanh(),\n",
    "    # Layer 5\n",
    "    Linear(NUM_HIDDEN_NEURONS, NUM_HIDDEN_NEURONS, bias=False),\n",
    "    BatchNorm1d(NUM_HIDDEN_NEURONS),\n",
    "    Tanh(),\n",
    "    # Output layer\n",
    "    Linear(NUM_HIDDEN_NEURONS, VOCAB_SIZE, bias=False),\n",
    "    BatchNorm1d(VOCAB_SIZE),\n",
    "]\n",
    "with torch.no_grad():\n",
    "  # last layer: make less confident\n",
    "  layers[-1].gamma *= 0.1\n",
    "\n",
    "parameters = [C] + [p for layer in layers for p in layer.parameters()]\n",
    "print(\"Total params: \", sum(p.nelement() for p in parameters)) # number of parameters in total\n",
    "for p in parameters:\n",
    "  p.requires_grad = True"
   ]
  },
  {
   "cell_type": "code",
   "execution_count": 7,
   "metadata": {},
   "outputs": [
    {
     "name": "stdout",
     "output_type": "stream",
     "text": [
      "      0/  20000: 3.2870\n",
      "   1000/  20000: 2.2807\n",
      "   2000/  20000: 2.6592\n",
      "   3000/  20000: 2.4179\n",
      "   4000/  20000: 2.0728\n",
      "   5000/  20000: 1.9455\n",
      "   6000/  20000: 2.1830\n",
      "   7000/  20000: 2.2762\n",
      "   8000/  20000: 2.2768\n",
      "   9000/  20000: 2.2899\n",
      "  10000/  20000: 2.3273\n",
      "  11000/  20000: 2.4599\n",
      "  12000/  20000: 2.5290\n",
      "  13000/  20000: 1.8646\n",
      "  14000/  20000: 2.6447\n",
      "  15000/  20000: 2.0133\n",
      "  16000/  20000: 1.9743\n",
      "  17000/  20000: 2.4100\n",
      "  18000/  20000: 2.2002\n",
      "  19000/  20000: 2.4772\n",
      "2.0607450008392334\n"
     ]
    }
   ],
   "source": [
    "max_steps = 20000\n",
    "batch_size = 32\n",
    "lossi = []\n",
    "ud = []\n",
    "\n",
    "for i in range(max_steps):\n",
    "    # minibatch construct\n",
    "    ix = torch.randint(0, Xtr.shape[0], (batch_size,), generator=g)\n",
    "    Xb, Yb = Xtr[ix], Ytr[ix] # batch X,Y\n",
    "\n",
    "    # forward pass\n",
    "    emb = C[Xb] # embed the characters into vectors\n",
    "    x = emb.view(emb.shape[0], -1) # concatenate the vectors\n",
    "    for layer in layers:\n",
    "        x = layer(x)\n",
    "    loss = F.cross_entropy(x, Yb) # loss function\n",
    "\n",
    "    # backward pass\n",
    "    for layer in layers:\n",
    "        layer.out.retain_grad() # AFTER_DEBUG: would take out retain_graph\n",
    "    for p in parameters:\n",
    "        p.grad = None\n",
    "    loss.backward()\n",
    "\n",
    "    # update\n",
    "    lr = 0.1 if i < 15000 else 0.01 # step learning rate decay\n",
    "    for p in parameters:\n",
    "        p.data += -lr * p.grad\n",
    "\n",
    "    # track stats\n",
    "    if i % 1000 == 0: # print every once in a while\n",
    "        print(f'{i:7d}/{max_steps:7d}: {loss.item():.4f}')\n",
    "    lossi.append(loss.item())\n",
    "\n",
    "print(loss.item())"
   ]
  },
  {
   "cell_type": "code",
   "execution_count": 8,
   "metadata": {},
   "outputs": [
    {
     "name": "stdout",
     "output_type": "stream",
     "text": [
      "train 2.1310999393463135\n",
      "val 2.152378797531128\n"
     ]
    }
   ],
   "source": [
    "@torch.no_grad() # this decorator disables gradient tracking\n",
    "def split_loss(split):\n",
    "    \"\"\"Simple function to take a split of the data and compute the loss.  No\n",
    "    gradients will be calculated.\"\"\"\n",
    "    x,y = {\n",
    "        'train': (Xtr,  Ytr),\n",
    "        'val'  : (Xdev, Ydev),\n",
    "        'test' : (Xte,  Yte),\n",
    "    }[split]\n",
    "    # forward pass\n",
    "    emb = C[x] # embed the characters into vectors\n",
    "    x = emb.view(emb.shape[0], -1) # concatenate the vectors\n",
    "    for layer in layers:\n",
    "        x = layer(x)\n",
    "    loss = F.cross_entropy(x, y) # loss function\n",
    "    print(split, loss.item())\n",
    "\n",
    "split_loss('train')\n",
    "split_loss('val')"
   ]
  },
  {
   "cell_type": "code",
   "execution_count": 9,
   "metadata": {},
   "outputs": [
    {
     "data": {
      "text/plain": [
       "[<matplotlib.lines.Line2D at 0x7fb00083dc40>]"
      ]
     },
     "execution_count": 9,
     "metadata": {},
     "output_type": "execute_result"
    },
    {
     "data": {
      "image/png": "[encoded data removed]",
      "text/plain": [
       "<Figure size 640x480 with 1 Axes>"
      ]
     },
     "metadata": {},
     "output_type": "display_data"
    }
   ],
   "source": [
    "plt.plot(lossi)"
   ]
  },
  {
   "cell_type": "code",
   "execution_count": 10,
   "metadata": {},
   "outputs": [
    {
     "data": {
      "text/plain": [
       "[<matplotlib.lines.Line2D at 0x7fb0106538e0>]"
      ]
     },
     "execution_count": 10,
     "metadata": {},
     "output_type": "execute_result"
    },
    {
     "data": {
      "image/png": "[encoded data removed]",
      "text/plain": [
       "<Figure size 640x480 with 1 Axes>"
      ]
     },
     "metadata": {},
     "output_type": "display_data"
    }
   ],
   "source": [
    "plt.plot(torch.tensor(lossi).view(-1, 500).mean(1))"
   ]
  },
  {
   "cell_type": "code",
   "execution_count": 11,
   "metadata": {},
   "outputs": [
    {
     "name": "stdout",
     "output_type": "stream",
     "text": [
      "carmah.\n",
      "amelle.\n",
      "khi.\n",
      "mili.\n",
      "taty.\n",
      "skaassie.\n",
      "mahnel.\n",
      "deliah.\n",
      "jareen.\n",
      "nellara.\n",
      "chaiiv.\n",
      "kaleigh.\n",
      "ham.\n",
      "join.\n",
      "quinn.\n",
      "shon.\n",
      "malianni.\n",
      "watthoniearyxi.\n",
      "jace.\n",
      "pilra.\n"
     ]
    }
   ],
   "source": [
    "# sample from the model\n",
    "g = torch.Generator().manual_seed(2147483647 + 10)\n",
    "\n",
    "for layer in layers:\n",
    "   layer.training = False\n",
    "\n",
    "for _ in range(20):\n",
    "    \n",
    "    out = []\n",
    "    context = [0] * BLOCK_SIZE # initialize with all ...\n",
    "    while True:\n",
    "      # forward pass the neural net\n",
    "      emb = C[torch.tensor([context])] # (1,block_size,n_embd)\n",
    "      x = emb.view(emb.shape[0], -1) # concatenate the vectors\n",
    "      for layer in layers:\n",
    "        x = layer(x)\n",
    "      logits = x\n",
    "      probs = F.softmax(logits, dim=1)\n",
    "      # sample from the distribution\n",
    "      ix = torch.multinomial(probs, num_samples=1, generator=g).item()\n",
    "      # shift the context window and track the samples\n",
    "      context = context[1:] + [ix]\n",
    "      out.append(ix)\n",
    "      # if we sample the special '.' token, break\n",
    "      if ix == 0:\n",
    "        break\n",
    "    \n",
    "    print(''.join(itos[i] for i in out)) # decode and print the generated word"
   ]
  },
  {
   "attachments": {},
   "cell_type": "markdown",
   "metadata": {},
   "source": [
    "We currently have too many steps in our forward pass.  The embedding step is outside of our layers, and the flattening after getting the embeddings is a separate step.  We need to make special types to perform those functions."
   ]
  },
  {
   "cell_type": "code",
   "execution_count": 12,
   "metadata": {},
   "outputs": [],
   "source": [
    "# We will name the classes the same way they are named in torch.\n",
    "class Embedding:\n",
    "    def __init__(self, num_embeddings, embedding_dimensions):\n",
    "        \"\"\"Inputs:\n",
    "            num_embeddings:       Normally the total vocab size.\n",
    "            embedding_dimensions: The size of the embedding dimensional space.\n",
    "        \"\"\"\n",
    "        self.weight = torch.randn((num_embeddings, embedding_dimensions))\n",
    "    \n",
    "    def __call__(self, IX):\n",
    "        self.out = self.weight[IX]  # Perform the embedding, ie fetch the embedding vector for every input.\n",
    "        return self.out\n",
    "    \n",
    "    def parameters(self):\n",
    "        return [self.weight]\n",
    "\n",
    "class Flatten:\n",
    "    def __call__(self, x):\n",
    "        \"\"\"Keep the first dimention, and let torch figure out how to arrange all the other\n",
    "        dimensions to make a 2-D matrix.\n",
    "        \"\"\"\n",
    "        self.out = x.view(x.shape[0], -1)\n",
    "        return self.out\n",
    "    \n",
    "    def parameters(self):\n",
    "        return []\n",
    "\n",
    "class Sequential:\n",
    "    \"\"\"Class to hold a list of layers that should be called in sequence.\"\"\"\n",
    "    def __init__(self, layers):\n",
    "        self.layers = layers\n",
    "    \n",
    "    def __call__(self, x):\n",
    "        for layer in self.layers:\n",
    "            x = layer(x)\n",
    "        self.out = x\n",
    "        return self.out\n",
    "    \n",
    "    def parameters(self):\n",
    "        return [p for layer in self.layers for p in layer.parameters()]"
   ]
  },
  {
   "cell_type": "code",
   "execution_count": 13,
   "metadata": {},
   "outputs": [
    {
     "name": "stdout",
     "output_type": "stream",
     "text": [
      "Total params:  47024\n"
     ]
    }
   ],
   "source": [
    "# We can rebuild the network as pure layers.\n",
    "g = torch.Generator().manual_seed(42) # for reproducibility\n",
    "EMBED_SIZE = 10\n",
    "NUM_HIDDEN_NEURONS = 100\n",
    "L1_INPUT_SIZE = EMBED_SIZE * BLOCK_SIZE\n",
    "\n",
    "model = Sequential([\n",
    "    # Layer 0: Embeddings.\n",
    "    Embedding(VOCAB_SIZE, EMBED_SIZE),\n",
    "    # Layer 0b: Flatten to an input to the hidden layers.\n",
    "    Flatten(),\n",
    "    # Layer 1: Input from embeddings.\n",
    "    Linear(L1_INPUT_SIZE, NUM_HIDDEN_NEURONS, bias=False),\n",
    "    BatchNorm1d(NUM_HIDDEN_NEURONS),\n",
    "    Tanh(),\n",
    "    # Layer 2\n",
    "    Linear(NUM_HIDDEN_NEURONS, NUM_HIDDEN_NEURONS, bias=False),\n",
    "    BatchNorm1d(NUM_HIDDEN_NEURONS),\n",
    "    Tanh(),\n",
    "    # Layer 3\n",
    "    Linear(NUM_HIDDEN_NEURONS, NUM_HIDDEN_NEURONS, bias=False),\n",
    "    BatchNorm1d(NUM_HIDDEN_NEURONS),\n",
    "    Tanh(),\n",
    "    # Layer 4\n",
    "    Linear(NUM_HIDDEN_NEURONS, NUM_HIDDEN_NEURONS, bias=False),\n",
    "    BatchNorm1d(NUM_HIDDEN_NEURONS),\n",
    "    Tanh(),\n",
    "    # Layer 5\n",
    "    Linear(NUM_HIDDEN_NEURONS, NUM_HIDDEN_NEURONS, bias=False),\n",
    "    BatchNorm1d(NUM_HIDDEN_NEURONS),\n",
    "    Tanh(),\n",
    "    # Output layer\n",
    "    Linear(NUM_HIDDEN_NEURONS, VOCAB_SIZE, bias=False),\n",
    "    BatchNorm1d(VOCAB_SIZE),\n",
    "])\n",
    "with torch.no_grad():\n",
    "  # last layer: make less confident\n",
    "  model.layers[-1].gamma *= 0.1\n",
    "\n",
    "parameters = model.parameters()\n",
    "print(\"Total params: \", sum(p.nelement() for p in parameters)) # number of parameters in total\n",
    "for p in parameters:\n",
    "  p.requires_grad = True\n"
   ]
  },
  {
   "cell_type": "code",
   "execution_count": 14,
   "metadata": {},
   "outputs": [
    {
     "name": "stdout",
     "output_type": "stream",
     "text": [
      "      0/  20000: 3.3360\n",
      "   1000/  20000: 2.6625\n",
      "   2000/  20000: 2.4376\n",
      "   3000/  20000: 2.3973\n",
      "   4000/  20000: 1.7952\n",
      "   5000/  20000: 2.4707\n",
      "   6000/  20000: 2.3159\n",
      "   7000/  20000: 2.1150\n",
      "   8000/  20000: 2.3277\n",
      "   9000/  20000: 2.4479\n",
      "  10000/  20000: 2.1508\n",
      "  11000/  20000: 2.4334\n",
      "  12000/  20000: 2.0012\n",
      "  13000/  20000: 1.9161\n",
      "  14000/  20000: 2.4280\n",
      "  15000/  20000: 2.0505\n",
      "  16000/  20000: 1.6496\n",
      "  17000/  20000: 2.2935\n",
      "  18000/  20000: 1.8684\n",
      "  19000/  20000: 2.4034\n",
      "2.049808979034424\n"
     ]
    }
   ],
   "source": [
    "max_steps = 20000\n",
    "batch_size = 32\n",
    "lossi = []\n",
    "ud = []\n",
    "\n",
    "for i in range(max_steps):\n",
    "    # minibatch construct\n",
    "    ix = torch.randint(0, Xtr.shape[0], (batch_size,), generator=g)\n",
    "    Xb, Yb = Xtr[ix], Ytr[ix] # batch X,Y\n",
    "\n",
    "    # forward pass\n",
    "    logits = model(Xb)\n",
    "    loss = F.cross_entropy(logits, Yb) # loss function\n",
    "\n",
    "    # backward pass\n",
    "    for layer in layers:\n",
    "        layer.out.retain_grad() # AFTER_DEBUG: would take out retain_graph\n",
    "    for p in parameters:\n",
    "        p.grad = None\n",
    "    loss.backward()\n",
    "\n",
    "    # update\n",
    "    lr = 0.1 if i < 15000 else 0.01 # step learning rate decay\n",
    "    for p in parameters:\n",
    "        p.data += -lr * p.grad\n",
    "\n",
    "    # track stats\n",
    "    if i % 1000 == 0: # print every once in a while\n",
    "        print(f'{i:7d}/{max_steps:7d}: {loss.item():.4f}')\n",
    "    lossi.append(loss.item())\n",
    "\n",
    "print(loss.item())"
   ]
  },
  {
   "cell_type": "code",
   "execution_count": 15,
   "metadata": {},
   "outputs": [
    {
     "name": "stdout",
     "output_type": "stream",
     "text": [
      "train 2.1319594383239746\n",
      "val 2.1536943912506104\n"
     ]
    }
   ],
   "source": [
    "@torch.no_grad() # this decorator disables gradient tracking\n",
    "def split_loss(split):\n",
    "    \"\"\"Simple function to take a split of the data and compute the loss.  No\n",
    "    gradients will be calculated.\"\"\"\n",
    "    x,y = {\n",
    "        'train': (Xtr,  Ytr),\n",
    "        'val'  : (Xdev, Ydev),\n",
    "        'test' : (Xte,  Yte),\n",
    "    }[split]\n",
    "    # forward pass\n",
    "    logits = model(x)\n",
    "    loss = F.cross_entropy(logits, y) # loss function\n",
    "    print(split, loss.item())\n",
    "\n",
    "split_loss('train')\n",
    "split_loss('val')"
   ]
  },
  {
   "cell_type": "code",
   "execution_count": 16,
   "metadata": {},
   "outputs": [
    {
     "name": "stdout",
     "output_type": "stream",
     "text": [
      "carmahfamille.\n",
      "khi.\n",
      "mili.\n",
      "taty.\n",
      "skanden.\n",
      "jazontefamerynci.\n",
      "aqui.\n",
      "nellara.\n",
      "chaiiv.\n",
      "kaleigh.\n",
      "ham.\n",
      "jock.\n",
      "quinton.\n",
      "lilea.\n",
      "jadiquinterridearynix.\n",
      "kael.\n",
      "dura.\n",
      "med.\n",
      "emiia.\n",
      "giley.\n"
     ]
    }
   ],
   "source": [
    "# sample from the model\n",
    "g = torch.Generator().manual_seed(2147483647 + 10)\n",
    "\n",
    "for layer in model.layers:\n",
    "   layer.training = False\n",
    "   \n",
    "\n",
    "for _ in range(20):\n",
    "    \n",
    "    out = []\n",
    "    context = [0] * BLOCK_SIZE # initialize with all ...\n",
    "    while True:\n",
    "      # forward pass the neural net\n",
    "      logits = model(torch.tensor([context]))\n",
    "      probs = F.softmax(logits, dim=1)\n",
    "      # sample from the distribution\n",
    "      ix = torch.multinomial(probs, num_samples=1, generator=g).item()\n",
    "      # shift the context window and track the samples\n",
    "      context = context[1:] + [ix]\n",
    "      out.append(ix)\n",
    "      # if we sample the special '.' token, break\n",
    "      if ix == 0:\n",
    "        break\n",
    "    \n",
    "    print(''.join(itos[i] for i in out)) # decode and print the generated word"
   ]
  },
  {
   "cell_type": "code",
   "execution_count": 17,
   "metadata": {},
   "outputs": [
    {
     "name": "stdout",
     "output_type": "stream",
     "text": [
      "torch.Size([182580, 8]) torch.Size([182580])\n",
      "torch.Size([22767, 8]) torch.Size([22767])\n",
      "torch.Size([22799, 8]) torch.Size([22799])\n"
     ]
    }
   ],
   "source": [
    "# Let's start experimenting as we start to implement WaveNet.\n",
    "# https://arxiv.org/abs/1609.03499 \n",
    "\n",
    "BLOCK_SIZE = 8  # Context length.  How many letters do we take to predict the next.\n",
    "\n",
    "# Build a data set.\n",
    "def build_dataset(words): \n",
    "    \"\"\"Build a data set from the given data.\n",
    "  \n",
    "    Returns: \n",
    "      torch.tensor: X inputs (context block_size long)\n",
    "      torch.tensor: Y labels\n",
    "    \"\"\"\n",
    "    X, Y = [], []\n",
    "  \n",
    "    for w in words:\n",
    "        context = [0] * BLOCK_SIZE\n",
    "        for ch in w + '.':\n",
    "            ix = stoi[ch]\n",
    "            X.append(context)\n",
    "            Y.append(ix)\n",
    "            context = context[1:] + [ix] # crop and append\n",
    "\n",
    "    X = torch.tensor(X)\n",
    "    Y = torch.tensor(Y)\n",
    "    print(X.shape, Y.shape)\n",
    "    return X, Y\n",
    "\n",
    "# Going to split the training set.\n",
    "n1 = int(0.8*len(words))  # 80% for training.\n",
    "n2 = int(0.9*len(words))  # 10% for dev, and then 10% for eval.\n",
    "\n",
    "import random\n",
    "random.seed(42)\n",
    "random.shuffle(words)\n",
    "Xtr,  Ytr  = build_dataset(words[:n1])     # 80%\n",
    "Xdev, Ydev = build_dataset(words[n1:n2])   # 10%\n",
    "Xte,  Yte  = build_dataset(words[n2:])     # 10%\n"
   ]
  },
  {
   "cell_type": "code",
   "execution_count": 18,
   "metadata": {},
   "outputs": [
    {
     "name": "stdout",
     "output_type": "stream",
     "text": [
      "Total params:  22124\n"
     ]
    }
   ],
   "source": [
    "g = torch.Generator().manual_seed(42) # for reproducibility\n",
    "EMBED_SIZE = 10\n",
    "NUM_HIDDEN_NEURONS = 200\n",
    "L1_INPUT_SIZE = EMBED_SIZE * BLOCK_SIZE\n",
    "\n",
    "model = Sequential([\n",
    "    # Layer 0: Embeddings.\n",
    "    Embedding(VOCAB_SIZE, EMBED_SIZE),\n",
    "    # Layer 0b: Flatten to an input to the hidden layers.\n",
    "    Flatten(),\n",
    "    # Layer 1: Input from embeddings.\n",
    "    Linear(L1_INPUT_SIZE, NUM_HIDDEN_NEURONS, bias=False),\n",
    "    BatchNorm1d(NUM_HIDDEN_NEURONS),\n",
    "    Tanh(),\n",
    "    # Output layer\n",
    "    Linear(NUM_HIDDEN_NEURONS, VOCAB_SIZE, bias=False),\n",
    "    BatchNorm1d(VOCAB_SIZE),\n",
    "])\n",
    "with torch.no_grad():\n",
    "  # last layer: make less confident\n",
    "  model.layers[-1].gamma *= 0.1\n",
    "\n",
    "parameters = model.parameters()\n",
    "print(\"Total params: \", sum(p.nelement() for p in parameters)) # number of parameters in total\n",
    "for p in parameters:\n",
    "  p.requires_grad = True"
   ]
  },
  {
   "cell_type": "code",
   "execution_count": 19,
   "metadata": {},
   "outputs": [
    {
     "name": "stdout",
     "output_type": "stream",
     "text": [
      "      0/  20000: 3.3130\n",
      "3.312997817993164\n"
     ]
    }
   ],
   "source": [
    "max_steps = 20000\n",
    "batch_size = 4\n",
    "lossi = []\n",
    "ud = []\n",
    "\n",
    "for i in range(max_steps):\n",
    "    # minibatch construct\n",
    "    ix = torch.randint(0, Xtr.shape[0], (batch_size,), generator=g)\n",
    "    Xb, Yb = Xtr[ix], Ytr[ix] # batch X,Y\n",
    "\n",
    "    # forward pass\n",
    "    logits = model(Xb)\n",
    "    loss = F.cross_entropy(logits, Yb) # loss function\n",
    "\n",
    "    # backward pass\n",
    "    for layer in layers:\n",
    "        layer.out.retain_grad() # AFTER_DEBUG: would take out retain_graph\n",
    "    for p in parameters:\n",
    "        p.grad = None\n",
    "    loss.backward()\n",
    "\n",
    "    # update\n",
    "    lr = 0.1 if i < 15000 else 0.01 # step learning rate decay\n",
    "    for p in parameters:\n",
    "        p.data += -lr * p.grad\n",
    "\n",
    "    # track stats\n",
    "    if i % 1000 == 0: # print every once in a while\n",
    "        print(f'{i:7d}/{max_steps:7d}: {loss.item():.4f}')\n",
    "    lossi.append(loss.item())\n",
    "    break\n",
    "\n",
    "print(loss.item())"
   ]
  },
  {
   "cell_type": "code",
   "execution_count": 20,
   "metadata": {},
   "outputs": [
    {
     "data": {
      "text/plain": [
       "torch.Size([4, 8, 10])"
      ]
     },
     "execution_count": 20,
     "metadata": {},
     "output_type": "execute_result"
    }
   ],
   "source": [
    "model.layers[0].out.shape  # output of embedding layer"
   ]
  },
  {
   "cell_type": "code",
   "execution_count": 21,
   "metadata": {},
   "outputs": [
    {
     "data": {
      "text/plain": [
       "torch.Size([4, 80])"
      ]
     },
     "execution_count": 21,
     "metadata": {},
     "output_type": "execute_result"
    }
   ],
   "source": [
    "model.layers[1].out.shape  # output of flatten layer"
   ]
  },
  {
   "cell_type": "code",
   "execution_count": 22,
   "metadata": {},
   "outputs": [
    {
     "data": {
      "text/plain": [
       "torch.Size([4, 200])"
      ]
     },
     "execution_count": 22,
     "metadata": {},
     "output_type": "execute_result"
    }
   ],
   "source": [
    "model.layers[2].out.shape  # output of linear layer"
   ]
  },
  {
   "cell_type": "code",
   "execution_count": 23,
   "metadata": {},
   "outputs": [
    {
     "name": "stdout",
     "output_type": "stream",
     "text": [
      "torch.Size([4, 200])\n",
      "torch.Size([4, 6, 200])\n"
     ]
    }
   ],
   "source": [
    "# Right now we're taking all 8 context chars and multiplying against the weights all at once.  \n",
    "# But in the WaveNet, they take pairs of chars to apply to weights.  torch allows us to break apart\n",
    "# leading dimensions.  It only cares about the final dimension for the multiply.  It treats all\n",
    "# of the leading dimensions as batches, or groups.\n",
    "print((torch.rand(4, 80) @ torch.randn(80, 200)).shape)\n",
    "print((torch.rand(4, 6, 80) @ torch.randn(80, 200)).shape)"
   ]
  },
  {
   "cell_type": "code",
   "execution_count": 24,
   "metadata": {},
   "outputs": [
    {
     "name": "stdout",
     "output_type": "stream",
     "text": [
      "torch.Size([4, 4, 200])\n",
      "torch.Size([4, 80])\n",
      "[0, 2, 4, 6, 8]\n",
      "even:  torch.Size([4, 4, 10])\n",
      "odd :  torch.Size([4, 4, 10])\n",
      "cat try1:  torch.Size([8, 4, 10])\n",
      "cat try2:  torch.Size([4, 4, 20])\n"
     ]
    }
   ],
   "source": [
    "# Our input is:\n",
    "# 1 2 3 4 5 6 7 8\n",
    "# Want\n",
    "# (1 2) (3 4) (5 6) (7 8)\n",
    "# So instead of 80, we would expect 4 by 20\n",
    "print((torch.rand(4, 4, 20) @ torch.randn(20, 200)).shape)\n",
    "# So we need to change our Flatten layer.\n",
    "example = torch.randn(4, 8, 10)  # What we get from embedding\n",
    "print(example.view(example.shape[0], -1).shape)  # This is what flattening currently does.\n",
    "# We can index in the tensor by reading all of a dimension (:), every other (::2).\n",
    "print(list(range(10))[::2])  # Sample for every-other list.\n",
    "print(\"even: \", example[:, ::2, :].shape)\n",
    "# That indexing gave the proper shape as output.  We also need the odd-index version:\n",
    "print(\"odd : \", example[:, 1::2, :].shape)\n",
    "# cat them together:\n",
    "print(\"cat try1: \", torch.cat((example[:, ::2, :], example[:, 1::2, :])).shape)\n",
    "# That looks wrong, because it combined the first dimension, not the second one.\n",
    "print(\"cat try2: \", torch.cat((example[:, ::2, :], example[:, 1::2, :]), dim=2).shape)\n",
    "# Looks correct!"
   ]
  },
  {
   "cell_type": "code",
   "execution_count": 25,
   "metadata": {},
   "outputs": [
    {
     "data": {
      "text/plain": [
       "tensor(True)"
      ]
     },
     "execution_count": 25,
     "metadata": {},
     "output_type": "execute_result"
    }
   ],
   "source": [
    "# But torch can do this for us.  We can just tell view how we want to see it.\n",
    "explicit = torch.cat((example[:, ::2, :], example[:, 1::2, :]), dim=2)\n",
    "faster = example.view(4, 4, 20)\n",
    "(explicit == faster).all()  # They should match.\n",
    "# And they do."
   ]
  },
  {
   "cell_type": "code",
   "execution_count": 26,
   "metadata": {},
   "outputs": [],
   "source": [
    "# We need to make a new layer type to do this more interesting flatten step.\n",
    "\n",
    "class FlattenConsecutive:\n",
    "    def __init__(self, num_consecutive_elements):\n",
    "        self.n = num_consecutive_elements\n",
    "    \n",
    "    def __call__(self, x):\n",
    "        \"\"\"Keep the first dimension, and adjust the other dimensions according to the\n",
    "        number of consecutive elements that should be grouped.\n",
    "\n",
    "        The second dimension should get reduced by the number of consecutive elements we\n",
    "        will group, and the last dimension will go up by that many elements.\n",
    "        \"\"\"\n",
    "        B, T, C = x.shape  # Batch, Tokens, Embedding vector (called Channels by torch)\n",
    "        x = x.view(B, T//self.n, C*self.n)\n",
    "        if x.shape[1] == 1:  # If the second dimension is just 1 element, get rid of it.\n",
    "            x = x.squeeze(1)\n",
    "        self.out = x\n",
    "        return self.out\n",
    "    \n",
    "    def parameters(self):\n",
    "        return []"
   ]
  },
  {
   "cell_type": "code",
   "execution_count": 27,
   "metadata": {},
   "outputs": [
    {
     "name": "stdout",
     "output_type": "stream",
     "text": [
      "Total params:  22370\n"
     ]
    }
   ],
   "source": [
    "g = torch.Generator().manual_seed(2147483647) # for reproducibility\n",
    "EMBED_SIZE = 10\n",
    "GROUP_SIZE = 2\n",
    "NUM_HIDDEN_NEURONS = 68\n",
    "L1_INPUT_SIZE = EMBED_SIZE * GROUP_SIZE\n",
    "\n",
    "model = Sequential([\n",
    "    # Layer 0: Embeddings.\n",
    "    Embedding(VOCAB_SIZE, EMBED_SIZE),\n",
    "    \n",
    "    # Layer 1: Input from embeddings.\n",
    "    FlattenConsecutive(GROUP_SIZE),\n",
    "    Linear(L1_INPUT_SIZE, NUM_HIDDEN_NEURONS, bias=False),\n",
    "    BatchNorm1d(NUM_HIDDEN_NEURONS),\n",
    "    Tanh(),\n",
    "    \n",
    "    # Layer 2: Hidden layer.\n",
    "    FlattenConsecutive(GROUP_SIZE),\n",
    "    Linear(NUM_HIDDEN_NEURONS * GROUP_SIZE, NUM_HIDDEN_NEURONS, bias=False),\n",
    "    BatchNorm1d(NUM_HIDDEN_NEURONS),\n",
    "    Tanh(),\n",
    "    \n",
    "    # Layer 2: Hidden layer.\n",
    "    FlattenConsecutive(GROUP_SIZE),\n",
    "    Linear(NUM_HIDDEN_NEURONS * GROUP_SIZE, NUM_HIDDEN_NEURONS, bias=False),\n",
    "    BatchNorm1d(NUM_HIDDEN_NEURONS),\n",
    "    Tanh(),\n",
    "    \n",
    "    # Output layer\n",
    "    Linear(NUM_HIDDEN_NEURONS, VOCAB_SIZE, bias=False),\n",
    "])\n",
    "with torch.no_grad():\n",
    "    # last layer: make less confident\n",
    "    model.layers[-1].weight *= 0.1\n",
    "\n",
    "parameters = model.parameters()\n",
    "print(\"Total params: \", sum(p.nelement() for p in parameters)) # number of parameters in total\n",
    "for p in parameters:\n",
    "    p.requires_grad = True\n"
   ]
  },
  {
   "cell_type": "code",
   "execution_count": 28,
   "metadata": {},
   "outputs": [
    {
     "name": "stdout",
     "output_type": "stream",
     "text": [
      "      0/  20000: 3.3062\n",
      "   1000/  20000: 2.3637\n",
      "   2000/  20000: 2.0799\n",
      "   3000/  20000: 2.4182\n",
      "   4000/  20000: 2.0593\n",
      "   5000/  20000: 2.2573\n",
      "   6000/  20000: 2.6915\n",
      "   7000/  20000: 2.6990\n",
      "   8000/  20000: 2.1639\n",
      "   9000/  20000: 1.8186\n",
      "  10000/  20000: 2.6122\n",
      "  11000/  20000: 2.0966\n",
      "  12000/  20000: 2.0769\n",
      "  13000/  20000: 2.3389\n",
      "  14000/  20000: 2.3431\n",
      "  15000/  20000: 2.4200\n",
      "  16000/  20000: 2.0399\n",
      "  17000/  20000: 2.0850\n",
      "  18000/  20000: 2.0851\n",
      "  19000/  20000: 2.0204\n",
      "2.1082584857940674\n"
     ]
    }
   ],
   "source": [
    "max_steps = 20000\n",
    "batch_size = 32\n",
    "lossi = []\n",
    "ud = []\n",
    "\n",
    "for i in range(max_steps):\n",
    "    # minibatch construct\n",
    "    ix = torch.randint(0, Xtr.shape[0], (batch_size,), generator=g)\n",
    "    Xb, Yb = Xtr[ix], Ytr[ix] # batch X,Y\n",
    "\n",
    "    # forward pass\n",
    "    logits = model(Xb)\n",
    "    loss = F.cross_entropy(logits, Yb) # loss function\n",
    "\n",
    "    # backward pass\n",
    "    for layer in layers:\n",
    "        layer.out.retain_grad() # AFTER_DEBUG: would take out retain_graph\n",
    "    for p in parameters:\n",
    "        p.grad = None\n",
    "    loss.backward()\n",
    "\n",
    "    # update\n",
    "    lr = 0.1 if i < 15000 else 0.01 # step learning rate decay\n",
    "    for p in parameters:\n",
    "        p.data += -lr * p.grad\n",
    "\n",
    "    # track stats\n",
    "    if i % 1000 == 0: # print every once in a while\n",
    "        print(f'{i:7d}/{max_steps:7d}: {loss.item():.4f}')\n",
    "    lossi.append(loss.item())\n",
    "\n",
    "print(loss.item())"
   ]
  },
  {
   "cell_type": "code",
   "execution_count": 29,
   "metadata": {},
   "outputs": [
    {
     "name": "stdout",
     "output_type": "stream",
     "text": [
      "Embedding : (32, 8, 10)\n",
      "FlattenConsecutive : (32, 4, 20)\n",
      "Linear : (32, 4, 68)\n",
      "BatchNorm1d : (32, 4, 68)\n",
      "Tanh : (32, 4, 68)\n",
      "FlattenConsecutive : (32, 2, 136)\n",
      "Linear : (32, 2, 68)\n",
      "BatchNorm1d : (32, 2, 68)\n",
      "Tanh : (32, 2, 68)\n",
      "FlattenConsecutive : (32, 136)\n",
      "Linear : (32, 68)\n",
      "BatchNorm1d : (32, 68)\n",
      "Tanh : (32, 68)\n",
      "Linear : (32, 27)\n"
     ]
    }
   ],
   "source": [
    "for layer in model.layers:\n",
    "    print(layer.__class__.__name__, \":\", tuple(layer.out.shape))"
   ]
  },
  {
   "cell_type": "code",
   "execution_count": 30,
   "metadata": {},
   "outputs": [
    {
     "name": "stdout",
     "output_type": "stream",
     "text": [
      "torch.Size([32, 4, 68])\n",
      "torch.Size([1, 1, 68])\n"
     ]
    }
   ],
   "source": [
    "# Let's debug the bachnorm layer a bit.\n",
    "\n",
    "examp = torch.randn(32, 4, 68)  # Our input shape.\n",
    "emean = examp.mean(0, keepdim=True)\n",
    "evar  = examp.var( 0, keepdim=True)\n",
    "ehat  = (examp - emean) / torch.sqrt(evar + 1e-5)\n",
    "print(ehat.shape)\n",
    "# Note that the shape has a middle dimension of 4.  So we are keeping 4 independant means and variences. \n",
    "# We don't want it spit up like this.  We want the mean and variance for all samples together.\n",
    "# We need to update the torch.mean and var calls.  They can take a tuple of dimensions to calculate over.\n",
    "emean = examp.mean((0, 1), keepdim=True)\n",
    "evar  = examp.var( (0, 1), keepdim=True)\n",
    "print(emean.shape)\n",
    "# Note this is good."
   ]
  },
  {
   "cell_type": "code",
   "execution_count": 31,
   "metadata": {},
   "outputs": [],
   "source": [
    "# Let's rebuild the BatchNorm1d class to fix this issue.\n",
    "class BatchNorm1d:\n",
    "    def __init__(self, dim, eps=1e-5, momentum=0.1):\n",
    "        self.eps = eps\n",
    "        self.momentum = momentum\n",
    "        self.training = True\n",
    "        # parameters (trained with backprop)\n",
    "        self.gamma = torch.ones(dim)\n",
    "        self.beta  = torch.zeros(dim)\n",
    "        # buffers (trained with a running 'momentum update')\n",
    "        self.running_mean = torch.zeros(dim)\n",
    "        self.running_var = torch.ones(dim)\n",
    "\n",
    "    def __call__(self, x):\n",
    "        # calculate the forward pass\n",
    "        if self.training:\n",
    "            if x.ndim == 2:\n",
    "                dim = 0\n",
    "            elif x.ndim == 3:\n",
    "                dim = (0, 1)  # Average over multiple dimensions.\n",
    "            xmean = x.mean(dim, keepdim=True) # batch mean\n",
    "            xvar  = x.var( dim, keepdim=True) # batch variance\n",
    "        else:\n",
    "            xmean = self.running_mean\n",
    "            xvar = self.running_var\n",
    "        xhat = (x - xmean) / torch.sqrt(xvar + self.eps) # normalize to unit variance\n",
    "        self.out = self.gamma * xhat + self.beta\n",
    "        # update the buffers\n",
    "        if self.training:\n",
    "            with torch.no_grad():\n",
    "                self.running_mean = (1 - self.momentum) * self.running_mean + self.momentum * xmean\n",
    "                self.running_var  = (1 - self.momentum) * self.running_var  + self.momentum * xvar\n",
    "        return self.out\n",
    "  \n",
    "    def parameters(self):\n",
    "        return [self.gamma, self.beta]"
   ]
  },
  {
   "cell_type": "code",
   "execution_count": 32,
   "metadata": {},
   "outputs": [
    {
     "name": "stdout",
     "output_type": "stream",
     "text": [
      "Total params:  22370\n"
     ]
    }
   ],
   "source": [
    "# Rebuild with our new type.\n",
    "g = torch.Generator().manual_seed(2147483647) # for reproducibility\n",
    "EMBED_SIZE = 10\n",
    "GROUP_SIZE = 2\n",
    "NUM_HIDDEN_NEURONS = 68\n",
    "L1_INPUT_SIZE = EMBED_SIZE * GROUP_SIZE\n",
    "\n",
    "model = Sequential([\n",
    "    # Layer 0: Embeddings.\n",
    "    Embedding(VOCAB_SIZE, EMBED_SIZE),\n",
    "    \n",
    "    # Layer 1: Input from embeddings.\n",
    "    FlattenConsecutive(GROUP_SIZE),\n",
    "    Linear(L1_INPUT_SIZE, NUM_HIDDEN_NEURONS, bias=False),\n",
    "    BatchNorm1d(NUM_HIDDEN_NEURONS),\n",
    "    Tanh(),\n",
    "    \n",
    "    # Layer 2: Hidden layer.\n",
    "    FlattenConsecutive(GROUP_SIZE),\n",
    "    Linear(NUM_HIDDEN_NEURONS * GROUP_SIZE, NUM_HIDDEN_NEURONS, bias=False),\n",
    "    BatchNorm1d(NUM_HIDDEN_NEURONS),\n",
    "    Tanh(),\n",
    "    \n",
    "    # Layer 2: Hidden layer.\n",
    "    FlattenConsecutive(GROUP_SIZE),\n",
    "    Linear(NUM_HIDDEN_NEURONS * GROUP_SIZE, NUM_HIDDEN_NEURONS, bias=False),\n",
    "    BatchNorm1d(NUM_HIDDEN_NEURONS),\n",
    "    Tanh(),\n",
    "    \n",
    "    # Output layer\n",
    "    Linear(NUM_HIDDEN_NEURONS, VOCAB_SIZE, bias=False),\n",
    "])\n",
    "with torch.no_grad():\n",
    "    # last layer: make less confident\n",
    "    model.layers[-1].weight *= 0.1\n",
    "\n",
    "parameters = model.parameters()\n",
    "print(\"Total params: \", sum(p.nelement() for p in parameters)) # number of parameters in total\n",
    "for p in parameters:\n",
    "    p.requires_grad = True"
   ]
  },
  {
   "cell_type": "code",
   "execution_count": 33,
   "metadata": {},
   "outputs": [
    {
     "name": "stdout",
     "output_type": "stream",
     "text": [
      "      0/  20000: 3.2965\n",
      "   1000/  20000: 2.4132\n",
      "   2000/  20000: 1.9985\n",
      "   3000/  20000: 2.2158\n",
      "   4000/  20000: 2.0901\n",
      "   5000/  20000: 2.2129\n",
      "   6000/  20000: 2.6442\n",
      "   7000/  20000: 2.5397\n",
      "   8000/  20000: 1.9940\n",
      "   9000/  20000: 1.8370\n",
      "  10000/  20000: 2.4955\n",
      "  11000/  20000: 2.0929\n",
      "  12000/  20000: 2.2284\n",
      "  13000/  20000: 2.3509\n",
      "  14000/  20000: 2.2161\n",
      "  15000/  20000: 2.3734\n",
      "  16000/  20000: 2.0721\n",
      "  17000/  20000: 2.0861\n",
      "  18000/  20000: 2.0556\n",
      "  19000/  20000: 2.0253\n",
      "2.0163474082946777\n",
      "torch.Size([1, 1, 68])\n"
     ]
    }
   ],
   "source": [
    "max_steps = 20000\n",
    "batch_size = 32\n",
    "lossi = []\n",
    "ud = []\n",
    "\n",
    "for i in range(max_steps):\n",
    "    # minibatch construct\n",
    "    ix = torch.randint(0, Xtr.shape[0], (batch_size,), generator=g)\n",
    "    Xb, Yb = Xtr[ix], Ytr[ix] # batch X,Y\n",
    "\n",
    "    # forward pass\n",
    "    logits = model(Xb)\n",
    "    loss = F.cross_entropy(logits, Yb) # loss function\n",
    "\n",
    "    # backward pass\n",
    "    for layer in layers:\n",
    "        layer.out.retain_grad() # AFTER_DEBUG: would take out retain_graph\n",
    "    for p in parameters:\n",
    "        p.grad = None\n",
    "    loss.backward()\n",
    "\n",
    "    # update\n",
    "    lr = 0.1 if i < 15000 else 0.01 # step learning rate decay\n",
    "    for p in parameters:\n",
    "        p.data += -lr * p.grad\n",
    "\n",
    "    # track stats\n",
    "    if i % 1000 == 0: # print every once in a while\n",
    "        print(f'{i:7d}/{max_steps:7d}: {loss.item():.4f}')\n",
    "    lossi.append(loss.item())\n",
    "\n",
    "print(loss.item())\n",
    "print(model.layers[3].running_mean.shape)"
   ]
  }
 ],
 "metadata": {
  "kernelspec": {
   "display_name": "base",
   "language": "python",
   "name": "python3"
  },
  "language_info": {
   "codemirror_mode": {
    "name": "ipython",
    "version": 3
   },
   "file_extension": ".py",
   "mimetype": "text/x-python",
   "name": "python",
   "nbconvert_exporter": "python",
   "pygments_lexer": "ipython3",
   "version": "3.9.13"
  },
  "orig_nbformat": 4,
  "vscode": {
   "interpreter": {
    "hash": "43dd406cf07603aefb2bc1f435b01d13dd3834c8eeb71afea2303e52aded1d18"
   }
  }
 },
 "nbformat": 4,
 "nbformat_minor": 2
}
