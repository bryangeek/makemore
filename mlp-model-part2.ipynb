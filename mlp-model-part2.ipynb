{
 "cells": [
  {
   "cell_type": "code",
   "execution_count": 96,
   "metadata": {},
   "outputs": [],
   "source": [
    "# Implimentation of a language model from the following research paper:\n",
    "# https://www.jmlr.org/papers/volume3/bengio03a/bengio03a.pdf\n",
    "\n",
    "import torch\n",
    "import torch.nn.functional as F\n",
    "import matplotlib.pyplot as plt\n",
    "%matplotlib inline"
   ]
  },
  {
   "cell_type": "code",
   "execution_count": 97,
   "metadata": {},
   "outputs": [
    {
     "data": {
      "text/plain": [
       "['emma', 'olivia', 'ava', 'isabella', 'sophia', 'charlotte', 'mia', 'amelia']"
      ]
     },
     "execution_count": 97,
     "metadata": {},
     "output_type": "execute_result"
    }
   ],
   "source": [
    "words = open(\"names.txt\", 'r').read().splitlines()\n",
    "words[:8]"
   ]
  },
  {
   "cell_type": "code",
   "execution_count": 98,
   "metadata": {},
   "outputs": [
    {
     "name": "stdout",
     "output_type": "stream",
     "text": [
      "{1: 'a', 2: 'b', 3: 'c', 4: 'd', 5: 'e', 6: 'f', 7: 'g', 8: 'h', 9: 'i', 10: 'j', 11: 'k', 12: 'l', 13: 'm', 14: 'n', 15: 'o', 16: 'p', 17: 'q', 18: 'r', 19: 's', 20: 't', 21: 'u', 22: 'v', 23: 'w', 24: 'x', 25: 'y', 26: 'z', 0: '.'}\n"
     ]
    }
   ],
   "source": [
    "chars = sorted(list(set(''.join(words))))\n",
    "stoi = {s:i+1 for i,s in enumerate(chars)}\n",
    "stoi['.'] = 0\n",
    "itos = {i:s for s,i in stoi.items()}\n",
    "VOCAB_SIZE = len(stoi.keys())\n",
    "print(itos)"
   ]
  },
  {
   "cell_type": "code",
   "execution_count": 99,
   "metadata": {},
   "outputs": [],
   "source": [
    "BLOCK_SIZE = 3  # Context length.  How many letters do we take to predict the next.\n",
    "\n",
    "# Build a data set.\n",
    "def build_dataset(words): \n",
    "    \"\"\"Build a data set from the given data.\n",
    "  \n",
    "    Returns: \n",
    "      torch.tensor: X inputs (context block_size long)\n",
    "      torch.tensor: Y labels\n",
    "    \"\"\"\n",
    "    X, Y = [], []\n",
    "  \n",
    "    for w in words:\n",
    "        context = [0] * BLOCK_SIZE\n",
    "        for ch in w + '.':\n",
    "            ix = stoi[ch]\n",
    "            X.append(context)\n",
    "            Y.append(ix)\n",
    "            context = context[1:] + [ix] # crop and append\n",
    "\n",
    "    X = torch.tensor(X)\n",
    "    Y = torch.tensor(Y)\n",
    "    print(X.shape, Y.shape)\n",
    "    return X, Y"
   ]
  },
  {
   "cell_type": "code",
   "execution_count": 100,
   "metadata": {},
   "outputs": [
    {
     "name": "stdout",
     "output_type": "stream",
     "text": [
      "torch.Size([182625, 3]) torch.Size([182625])\n",
      "torch.Size([22655, 3]) torch.Size([22655])\n",
      "torch.Size([22866, 3]) torch.Size([22866])\n"
     ]
    }
   ],
   "source": [
    "# Going to split the training set.\n",
    "n1 = int(0.8*len(words))  # 80% for training.\n",
    "n2 = int(0.9*len(words))  # 10% for dev, and then 10% for eval.\n",
    "\n",
    "import random\n",
    "random.seed(42)\n",
    "random.shuffle(words)\n",
    "Xtr,  Ytr  = build_dataset(words[:n1])     # 80%\n",
    "Xdev, Ydev = build_dataset(words[n1:n2])   # 10%\n",
    "Xte,  Yte  = build_dataset(words[n2:])     # 10%"
   ]
  },
  {
   "cell_type": "code",
   "execution_count": 101,
   "metadata": {},
   "outputs": [
    {
     "name": "stdout",
     "output_type": "stream",
     "text": [
      "11897\n"
     ]
    }
   ],
   "source": [
    "# We need to embed the inputs into a smaller tensor, since in practice the \n",
    "# number of input possibilities could be huge (27,000 in the case of words).\n",
    "# So we need a \"feature vector\" that maps each context.  So a given context\n",
    "# will get mapped into a feature vector.  We don't know what the feature \n",
    "# vector will be, so we will need to train it.  We will start it off as random\n",
    "# numbers.  The shape must be NUM_POSSIBLE_WORDS by NUM_DIM_FEATURE_VEC\n",
    "# The number of dimensions in the feature vector should be far smaller than\n",
    "# the number of possible inputs.  \n",
    "EMBED_SIZE = 10\n",
    "L1_INPUT_SIZE = EMBED_SIZE * BLOCK_SIZE\n",
    "\n",
    "# Let's build the full network.\n",
    "# Layer 0 = embedding\n",
    "# Layer 1 = number of neurons in hidden layer\n",
    "# Layer 2 = fully connected that results in VOCAB_SIZE output probabilities\n",
    "NUM_HIDDEN_NEURONS = 200\n",
    "g = torch.Generator().manual_seed(1337) # for reproducibility\n",
    "\n",
    "C = torch.randn((VOCAB_SIZE, EMBED_SIZE),             generator=g)\n",
    "W1 = torch.randn((L1_INPUT_SIZE, NUM_HIDDEN_NEURONS), generator=g)\n",
    "b1 = torch.randn(NUM_HIDDEN_NEURONS,                  generator=g)\n",
    "W2 = torch.randn((NUM_HIDDEN_NEURONS, VOCAB_SIZE),    generator=g)\n",
    "b2 = torch.randn(VOCAB_SIZE,                          generator=g)\n",
    "\n",
    "parameters = [C, W1, b1, W2, b2]\n",
    "print(sum(p.nelement() for p in parameters)) # number of parameters in total\n",
    "for p in parameters:\n",
    "    p.requires_grad = True\n"
   ]
  },
  {
   "cell_type": "code",
   "execution_count": 102,
   "metadata": {},
   "outputs": [
    {
     "name": "stdout",
     "output_type": "stream",
     "text": [
      "31.320106506347656\n"
     ]
    }
   ],
   "source": [
    "for train_count in range(1):\n",
    "    # Build a small batch of training data.  We want to select random items from our\n",
    "    # huge training set.  So use random int to pick 32 items out of our huge list.\n",
    "    batch_indexs = torch.randint(0, X.shape[0], (32,))\n",
    "\n",
    "    # Forward pass.\n",
    "    embedding = C[X[batch_indexs]]\n",
    "    h_pre_act = embedding.view(-1, L1_INPUT_SIZE) @ W1 + b1  # Pre-activation of h\n",
    "    h = torch.tanh(h_pre_act)\n",
    "    logits = h @ W2 + b2\n",
    "\n",
    "    # These next three are \"grading\" the system.  Classification is a typical AI task,\n",
    "    # so they call the grading against truth \"cross entropy\".  We can just use the function.\n",
    "    # Using the function in torch is far more efficient than calculating all of the intermediate\n",
    "    # values and doing the math explicitly.\n",
    "    # counts = logits.exp()\n",
    "    # prob = counts / counts.sum(1, keepdim=True)\n",
    "    # loss = -prob[torch.arange(Y.shape[0]), Y].log().mean()\n",
    "    loss = F.cross_entropy(logits, Y[batch_indexs])\n",
    "\n",
    "    # Backward pass.\n",
    "    TRAINING_RATE = 0.1\n",
    "\n",
    "    # First reset the gradient on all params.\n",
    "    for p in parameters:\n",
    "        p.grad = None\n",
    "    loss.backward()\n",
    "    # Update values.\n",
    "    for p in parameters:\n",
    "        p.data += -TRAINING_RATE * p.grad\n",
    "print(loss.item())"
   ]
  },
  {
   "cell_type": "code",
   "execution_count": 103,
   "metadata": {},
   "outputs": [
    {
     "name": "stdout",
     "output_type": "stream",
     "text": [
      "train 27.23516845703125\n",
      "val 27.208059310913086\n"
     ]
    }
   ],
   "source": [
    "@torch.no_grad() # this decorator disables gradient tracking\n",
    "def split_loss(split):\n",
    "    \"\"\"Simple function to take a split of the data and compute the loss.  No\n",
    "    gradients will be calculated.\"\"\"\n",
    "    x,y = {\n",
    "        'train': (Xtr,  Ytr),\n",
    "        'val'  : (Xdev, Ydev),\n",
    "        'test' : (Xte,  Yte),\n",
    "    }[split]\n",
    "    emb = C[x] # (N, block_size, n_embd)\n",
    "    embcat = emb.view(emb.shape[0], -1) # concat into (N, block_size * n_embd)\n",
    "    h_pre_act = embcat @ W1 # + b1  # h pre-activation\n",
    "    #hpreact = bngain * (hpreact - hpreact.mean(0, keepdim=True)) / hpreact.std(0, keepdim=True) + bnbias\n",
    "    #hpreact = bngain * (hpreact - bnmean_running) / bnstd_running + bnbias\n",
    "    h = torch.tanh(h_pre_act) # (N, n_hidden)\n",
    "    logits = h @ W2 + b2 # (N, vocab_size)\n",
    "    loss = F.cross_entropy(logits, y)\n",
    "    print(split, loss.item())\n",
    "\n",
    "split_loss('train')\n",
    "split_loss('val')"
   ]
  },
  {
   "attachments": {},
   "cell_type": "markdown",
   "metadata": {},
   "source": [
    "After the very first iteration, we have terrible loss.  Would have expected 3 to 4, but got 27.  So the softmax is way too confident.  It looks like the h X W2 is producint huge numbers.  So we need to scale down W2 and b2 so that the logits start off as small numbers."
   ]
  },
  {
   "cell_type": "code",
   "execution_count": 104,
   "metadata": {},
   "outputs": [
    {
     "name": "stdout",
     "output_type": "stream",
     "text": [
      "11897\n",
      "3.361250638961792\n",
      "train 3.2323813438415527\n",
      "val 3.2322874069213867\n"
     ]
    }
   ],
   "source": [
    "# Let's rebuild with scaling on the last layer.\n",
    "g = torch.Generator().manual_seed(1337) # for reproducibility\n",
    "\n",
    "C = torch.randn((VOCAB_SIZE, EMBED_SIZE),             generator=g)\n",
    "W1 = torch.randn((L1_INPUT_SIZE, NUM_HIDDEN_NEURONS), generator=g)\n",
    "b1 = torch.randn(NUM_HIDDEN_NEURONS,                  generator=g)\n",
    "W2 = torch.randn((NUM_HIDDEN_NEURONS, VOCAB_SIZE),    generator=g) * 0.01\n",
    "b2 = torch.randn(VOCAB_SIZE,                          generator=g) * 0\n",
    "\n",
    "parameters = [C, W1, b1, W2, b2]\n",
    "print(sum(p.nelement() for p in parameters)) # number of parameters in total\n",
    "for p in parameters:\n",
    "    p.requires_grad = True\n",
    "\n",
    "for train_count in range(1):\n",
    "    batch_indexs = torch.randint(0, X.shape[0], (32,))\n",
    "    # Forward pass.\n",
    "    embedding = C[X[batch_indexs]]\n",
    "    h_pre_act = embedding.view(-1, L1_INPUT_SIZE) @ W1 + b1  # Pre-activation of h\n",
    "    h = torch.tanh(h_pre_act)\n",
    "    logits = h @ W2 + b2\n",
    "    loss = F.cross_entropy(logits, Y[batch_indexs])\n",
    "    for p in parameters:\n",
    "        p.grad = None\n",
    "    loss.backward()\n",
    "    for p in parameters:\n",
    "        p.data += -TRAINING_RATE * p.grad\n",
    "print(loss.item())\n",
    "split_loss('train')\n",
    "split_loss('val')"
   ]
  },
  {
   "attachments": {},
   "cell_type": "markdown",
   "metadata": {},
   "source": [
    "That looks way better! Our first iteration should now be a much better starting point.\n",
    "\n",
    "Next let's look at the very first layer through the non-linear step of tanh."
   ]
  },
  {
   "cell_type": "code",
   "execution_count": 105,
   "metadata": {},
   "outputs": [
    {
     "name": "stdout",
     "output_type": "stream",
     "text": [
      "torch.Size([32, 200])\n"
     ]
    },
    {
     "data": {
      "image/png": "[encoded data removed]",
      "text/plain": [
       "<Figure size 2000x1000 with 1 Axes>"
      ]
     },
     "metadata": {},
     "output_type": "display_data"
    }
   ],
   "source": [
    "print(h.shape)\n",
    "plt.figure(figsize=(20,10))\n",
    "plt.imshow(h.abs() > 0.99, cmap='gray', interpolation='nearest');"
   ]
  },
  {
   "cell_type": "code",
   "execution_count": 106,
   "metadata": {},
   "outputs": [
    {
     "data": {
      "image/png": "[encoded data removed]",
      "text/plain": [
       "<Figure size 640x480 with 1 Axes>"
      ]
     },
     "metadata": {},
     "output_type": "display_data"
    }
   ],
   "source": [
    "plt.hist(h.view(-1).tolist(), 50);"
   ]
  },
  {
   "attachments": {},
   "cell_type": "markdown",
   "metadata": {},
   "source": [
    "At this point we can see that the tanh function is getting tons of outputs way out at -1.0 and 1.0.  The trouble with this is that the neuron won't be able to learn anything since all the values are way out in the flat part of tanh.  In the plot above, any square that is white shows where the tanh is very close to one.  Those neurons will be \"dead\" and never contribute to learning.  The gradients can't flow past these neurons."
   ]
  },
  {
   "cell_type": "code",
   "execution_count": 107,
   "metadata": {},
   "outputs": [
    {
     "data": {
      "image/png": "[encoded data removed]",
      "text/plain": [
       "<Figure size 640x480 with 1 Axes>"
      ]
     },
     "metadata": {},
     "output_type": "display_data"
    }
   ],
   "source": [
    "plt.hist(h_pre_act.view(-1).tolist(), 50);"
   ]
  },
  {
   "attachments": {},
   "cell_type": "markdown",
   "metadata": {},
   "source": [
    "We can see there are tons of values passed into tanh that are far from the -1 to 1.0 range where it provides gradients.  We need to get the pre-activation inputs down to the -1 to 1.0 range.  We can do this by scaling all of the initial weights by a small number."
   ]
  },
  {
   "cell_type": "code",
   "execution_count": 108,
   "metadata": {},
   "outputs": [
    {
     "name": "stdout",
     "output_type": "stream",
     "text": [
      "11897\n",
      "2.4072704315185547\n",
      "train 2.5334086418151855\n",
      "val 2.5311238765716553\n"
     ]
    }
   ],
   "source": [
    "# Let's rebuild the network with initialization scaling.\n",
    "\n",
    "g = torch.Generator().manual_seed(1337) # for reproducibility\n",
    "\n",
    "C = torch.randn((VOCAB_SIZE, EMBED_SIZE),             generator=g)\n",
    "W1 = torch.randn((L1_INPUT_SIZE, NUM_HIDDEN_NEURONS), generator=g) * 0.01\n",
    "b1 = torch.randn(NUM_HIDDEN_NEURONS,                  generator=g) * 0\n",
    "W2 = torch.randn((NUM_HIDDEN_NEURONS, VOCAB_SIZE),    generator=g) * 0.01\n",
    "b2 = torch.randn(VOCAB_SIZE,                          generator=g) * 0\n",
    "\n",
    "parameters = [C, W1, b1, W2, b2]\n",
    "print(sum(p.nelement() for p in parameters)) # number of parameters in total\n",
    "for p in parameters:\n",
    "    p.requires_grad = True\n",
    "\n",
    "for train_count in range(1000):\n",
    "    batch_indexs = torch.randint(0, X.shape[0], (32,))\n",
    "    # Forward pass.\n",
    "    embedding = C[X[batch_indexs]]\n",
    "    h_pre_act = embedding.view(-1, L1_INPUT_SIZE) @ W1 + b1  # Pre-activation of h\n",
    "    h = torch.tanh(h_pre_act)\n",
    "    logits = h @ W2 + b2\n",
    "    loss = F.cross_entropy(logits, Y[batch_indexs])\n",
    "    for p in parameters:\n",
    "        p.grad = None\n",
    "    loss.backward()\n",
    "    for p in parameters:\n",
    "        p.data += -TRAINING_RATE * p.grad\n",
    "print(loss.item())\n",
    "split_loss('train')\n",
    "split_loss('val')"
   ]
  },
  {
   "cell_type": "code",
   "execution_count": 109,
   "metadata": {},
   "outputs": [
    {
     "data": {
      "image/png": "[encoded data removed]",
      "text/plain": [
       "<Figure size 640x480 with 1 Axes>"
      ]
     },
     "metadata": {},
     "output_type": "display_data"
    }
   ],
   "source": [
    "plt.hist(h_pre_act.view(-1).tolist(), 50);"
   ]
  },
  {
   "attachments": {},
   "cell_type": "markdown",
   "metadata": {},
   "source": [
    "These inputs to tanh are much better.  Also our training loss after 1000 iterations is much better."
   ]
  },
  {
   "cell_type": "code",
   "execution_count": 110,
   "metadata": {},
   "outputs": [
    {
     "data": {
      "image/png": "[encoded data removed]",
      "text/plain": [
       "<Figure size 640x480 with 1 Axes>"
      ]
     },
     "metadata": {},
     "output_type": "display_data"
    }
   ],
   "source": [
    "plt.hist(h.view(-1).tolist(), 50);"
   ]
  },
  {
   "attachments": {},
   "cell_type": "markdown",
   "metadata": {},
   "source": [
    "This output from tanh looks very good and will provide good gradients for training."
   ]
  },
  {
   "cell_type": "code",
   "execution_count": 111,
   "metadata": {},
   "outputs": [
    {
     "data": {
      "image/png": "[encoded data removed]",
      "text/plain": [
       "<Figure size 2000x1000 with 1 Axes>"
      ]
     },
     "metadata": {},
     "output_type": "display_data"
    }
   ],
   "source": [
    "plt.figure(figsize=(20,10))\n",
    "plt.imshow(h.abs() > 0.99, cmap='gray', interpolation='nearest');"
   ]
  },
  {
   "attachments": {},
   "cell_type": "markdown",
   "metadata": {},
   "source": [
    "Now there are no white spots.  So no neurons are saturated and stopping the gradients."
   ]
  },
  {
   "attachments": {},
   "cell_type": "markdown",
   "metadata": {},
   "source": [
    "In these examples we just guessed at initial scales like 0.01.  Much research has been done on how to do it propely.  Much of the knowledge is now captured in things like torch.  So for init, we can look at:\n",
    "https://pytorch.org/docs/stable/nn.init.html\n",
    "\n",
    "We can see that when using tanh, the real scale should be (5/3)/(L1_INPUT_SIZE**0.5)\n",
    "If we substitute that in, we will see basically the same result.  But going forward it's better to use the init system in torch instead of adding magic numbers."
   ]
  },
  {
   "attachments": {},
   "cell_type": "markdown",
   "metadata": {},
   "source": [
    "One final thing we should look at is better normalization.  A key research paper came out in 2015 that detailed \"Batch Normalization\".  Lots of details on the wikipedia entry:\n",
    "https://en.wikipedia.org/wiki/Batch_normalization \n",
    "\n",
    "The basic idea is that right before doing the nonlinear step, we can normalize the values that go into the nonlinear step.  It can be better than just hoping that the initial weight scales hold up.  This way every single time we call the nonlinear step we know for sure that we've sclaed values to get good gradients through the nonlinear step.  To make this work, we also need to track the running average as we go through all the training loops.  Those running averages should not be part of the backward steps or training.  But the weight that we give to the batch-norm step should be trainable, as well as the offset (bias) it needs."
   ]
  },
  {
   "cell_type": "code",
   "execution_count": 112,
   "metadata": {},
   "outputs": [
    {
     "name": "stdout",
     "output_type": "stream",
     "text": [
      "12097\n",
      "2.2470149993896484\n",
      "train 2.577434778213501\n",
      "val 2.5762417316436768\n"
     ]
    }
   ],
   "source": [
    "# Let's rebuild using batch-norm.\n",
    "g = torch.Generator().manual_seed(1337) # for reproducibility\n",
    "\n",
    "C = torch.randn((VOCAB_SIZE, EMBED_SIZE),             generator=g)\n",
    "W1 = torch.randn((L1_INPUT_SIZE, NUM_HIDDEN_NEURONS), generator=g) * 0.01\n",
    "# No longer need b1 since batch-norm will take care of it.\n",
    "W2 = torch.randn((NUM_HIDDEN_NEURONS, VOCAB_SIZE),    generator=g) * 0.01\n",
    "b2 = torch.randn(VOCAB_SIZE,                          generator=g) * 0\n",
    "\n",
    "# BatchNorm parameters\n",
    "bn_gain = torch.ones( (1, NUM_HIDDEN_NEURONS))\n",
    "bn_bias = torch.zeros((1, NUM_HIDDEN_NEURONS))\n",
    "bn_mean_running = torch.zeros((1, NUM_HIDDEN_NEURONS))  # Not used for backward!\n",
    "bn_std_running = torch.ones(  (1, NUM_HIDDEN_NEURONS))  # Not used for backward!\n",
    "\n",
    "parameters = [C, W1, W2, b2, bn_gain, bn_bias]\n",
    "print(sum(p.nelement() for p in parameters)) # number of parameters in total\n",
    "for p in parameters:\n",
    "    p.requires_grad = True\n",
    "\n",
    "for train_count in range(5000):\n",
    "    batch_indexs = torch.randint(0, X.shape[0], (32,))\n",
    "    # Forward pass.\n",
    "    embedding = C[X[batch_indexs]]\n",
    "    h_pre_act = embedding.view(-1, L1_INPUT_SIZE) @ W1  # Pre-activation of h\n",
    "    # BatchNorm layer\n",
    "    bn_meani = h_pre_act.mean(0, keepdim=True)  # Mean along the batches.\n",
    "    bn_stdi  = h_pre_act.std( 0, keepdim=True)\n",
    "    h_pre_act = bn_gain * (h_pre_act - bn_meani) / bn_stdi + bn_bias\n",
    "    with torch.no_grad():\n",
    "        bn_mean_running = 0.999 * bn_mean_running + 0.001 * bn_meani\n",
    "        bn_std_running  = 0.999 * bn_std_running  + 0.001 * bn_stdi\n",
    "    h = torch.tanh(h_pre_act)\n",
    "    logits = h @ W2 + b2\n",
    "    loss = F.cross_entropy(logits, Y[batch_indexs])\n",
    "    for p in parameters:\n",
    "        p.grad = None\n",
    "    loss.backward()\n",
    "    for p in parameters:\n",
    "        p.data += -TRAINING_RATE * p.grad\n",
    "print(loss.item())\n",
    "split_loss('train')\n",
    "split_loss('val')"
   ]
  },
  {
   "cell_type": "code",
   "execution_count": 113,
   "metadata": {},
   "outputs": [
    {
     "name": "stdout",
     "output_type": "stream",
     "text": [
      "leik\n",
      "azaurbelecen\n",
      "pcardelinslani\n",
      "japhia\n",
      "ven\n",
      "anghin\n",
      "kicandanassamousasrie\n",
      "duzely\n",
      "bon\n",
      "koreima\n",
      "kasli\n",
      "amera\n",
      "leemanriakalex\n",
      "pani\n",
      "whav\n",
      "fakeya\n",
      "mmedelea\n",
      "vaylenicians\n",
      "siy\n",
      "jayah\n",
      "bremillyx\n",
      "zylen\n",
      "kaydbh\n",
      "minielaniso\n",
      "manuh\n"
     ]
    }
   ],
   "source": [
    "# With a trained model we can now sample from it.\n",
    "\n",
    "# g = torch.Generator().manual_seed(2147483647 + 1)\n",
    "\n",
    "for _ in range(25):\n",
    "    out = []\n",
    "    context = [0] * BLOCK_SIZE\n",
    "    while True:\n",
    "        embedding = C[torch.tensor(context)]  # (1, block_size, d)\n",
    "        h_pre_act = embedding.view(-1, L1_INPUT_SIZE) @ W1  # Pre-activation of h\n",
    "        # BatchNorm layer\n",
    "        h_pre_act = bn_gain * (h_pre_act - bn_mean_running) / bn_std_running + bn_bias\n",
    "        h = torch.tanh(h_pre_act)\n",
    "        logits = h @ W2 + b2\n",
    "        probs = F.softmax(logits, dim=1)\n",
    "        next_letter_i = torch.multinomial(probs, num_samples=1, generator=g).item()\n",
    "        if next_letter_i == 0:\n",
    "            break\n",
    "        out.append(itos[next_letter_i])\n",
    "        context = context[1:] + [next_letter_i]\n",
    "    print(''.join(out))"
   ]
  }
 ],
 "metadata": {
  "kernelspec": {
   "display_name": "base",
   "language": "python",
   "name": "python3"
  },
  "language_info": {
   "codemirror_mode": {
    "name": "ipython",
    "version": 3
   },
   "file_extension": ".py",
   "mimetype": "text/x-python",
   "name": "python",
   "nbconvert_exporter": "python",
   "pygments_lexer": "ipython3",
   "version": "3.9.13"
  },
  "orig_nbformat": 4,
  "vscode": {
   "interpreter": {
    "hash": "43dd406cf07603aefb2bc1f435b01d13dd3834c8eeb71afea2303e52aded1d18"
   }
  }
 },
 "nbformat": 4,
 "nbformat_minor": 2
}
