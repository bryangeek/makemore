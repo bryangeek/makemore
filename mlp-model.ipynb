{
 "cells": [
  {
   "cell_type": "code",
   "execution_count": 1,
   "metadata": {},
   "outputs": [],
   "source": [
    "# Implimentation of a language model from the following research paper:\n",
    "# https://www.jmlr.org/papers/volume3/bengio03a/bengio03a.pdf\n",
    "\n",
    "import torch\n",
    "import torch.nn.functional as F\n",
    "import matplotlib.pyplot as plt\n",
    "%matplotlib inline"
   ]
  },
  {
   "cell_type": "code",
   "execution_count": 2,
   "metadata": {},
   "outputs": [
    {
     "data": {
      "text/plain": [
       "['emma', 'olivia', 'ava', 'isabella', 'sophia', 'charlotte', 'mia', 'amelia']"
      ]
     },
     "execution_count": 2,
     "metadata": {},
     "output_type": "execute_result"
    }
   ],
   "source": [
    "words = open(\"names.txt\", 'r').read().splitlines()\n",
    "words[:8]"
   ]
  },
  {
   "cell_type": "code",
   "execution_count": 3,
   "metadata": {},
   "outputs": [
    {
     "name": "stdout",
     "output_type": "stream",
     "text": [
      "{1: 'a', 2: 'b', 3: 'c', 4: 'd', 5: 'e', 6: 'f', 7: 'g', 8: 'h', 9: 'i', 10: 'j', 11: 'k', 12: 'l', 13: 'm', 14: 'n', 15: 'o', 16: 'p', 17: 'q', 18: 'r', 19: 's', 20: 't', 21: 'u', 22: 'v', 23: 'w', 24: 'x', 25: 'y', 26: 'z', 0: '.'}\n"
     ]
    }
   ],
   "source": [
    "chars = sorted(list(set(''.join(words))))\n",
    "stoi = {s:i+1 for i,s in enumerate(chars)}\n",
    "stoi['.'] = 0\n",
    "itos = {i:s for s,i in stoi.items()}\n",
    "NUM_CHARS = len(stoi.keys())\n",
    "print(itos)"
   ]
  },
  {
   "cell_type": "code",
   "execution_count": 4,
   "metadata": {},
   "outputs": [],
   "source": [
    "# Build the data set.\n",
    "\n",
    "block_size = 3  # Context length.  How many letters do we take to predict the next.\n",
    "X, Y = [], []\n",
    "\n",
    "for w in words:\n",
    "    # print(w)\n",
    "    context = [0] * block_size\n",
    "    for ch in w + '.':\n",
    "        ix = stoi[ch]\n",
    "        X.append(context) # Preceeding 3 letters\n",
    "        Y.append(ix)      # Expected next letter (called labels in ML).\n",
    "        # print(''.join(itos[i] for i in context), '--->', itos[ix])\n",
    "        context = context[1:] + [ix]  # Crop and append.\n",
    "X = torch.tensor(X)\n",
    "Y = torch.tensor(Y)"
   ]
  },
  {
   "cell_type": "code",
   "execution_count": 5,
   "metadata": {},
   "outputs": [
    {
     "data": {
      "text/plain": [
       "(torch.Size([228146, 3]), torch.Size([228146]))"
      ]
     },
     "execution_count": 5,
     "metadata": {},
     "output_type": "execute_result"
    }
   ],
   "source": [
    "X.shape, Y.shape"
   ]
  },
  {
   "cell_type": "code",
   "execution_count": 7,
   "metadata": {},
   "outputs": [
    {
     "data": {
      "text/plain": [
       "tensor([1.1134, 0.4592])"
      ]
     },
     "execution_count": 7,
     "metadata": {},
     "output_type": "execute_result"
    }
   ],
   "source": [
    "# We need to embed the inputs into a smaller tensor, since in practice the \n",
    "# number of input possibilities could be huge (27,000 in the case of words).\n",
    "# So we need a \"feature vector\" that maps each context.  So a given context\n",
    "# will get mapped into a feature vector.  We don't know what the feature \n",
    "# vector will be, so we will need to train it.  We will start it off as random\n",
    "# numbers.  The shape must be NUM_POSSIBLE_WORDS by NUM_DIM_FEATURE_VEC\n",
    "# The number of dimensions in the feature vector should be far smaller than\n",
    "# the number of possible inputs.  In our character model case, we have 27 possible\n",
    "# inputs, and we will map it down to a 2-D feature vector.\n",
    "C = torch.randn((27, 2))\n",
    "\n",
    "# You can index into this tensor to get the feature vector for any character.  \n",
    "# For example the letter 'e' is 5, so we can get the feature vector for 'e':\n",
    "C[5]"
   ]
  },
  {
   "cell_type": "code",
   "execution_count": 8,
   "metadata": {},
   "outputs": [
    {
     "data": {
      "text/plain": [
       "torch.Size([228146, 3, 2])"
      ]
     },
     "execution_count": 8,
     "metadata": {},
     "output_type": "execute_result"
    }
   ],
   "source": [
    "# Torch is pretty awesome though.  We can index a query of letters all at once\n",
    "# by giving it a more complex input.  Instead of an integer, you can give it\n",
    "# a whole tensor full of letter IDs.  In our case, it will be our inputs X\n",
    "C[X].shape\n",
    "# Note that it produces a LARGER tensor!  It has a first dimension as large as our\n",
    "# input data set.  The second dimension is as big as block size since each input\n",
    "# data set has block_size characters in it.  Then for each of those, we have the \n",
    "# 2-D feature vector."
   ]
  },
  {
   "cell_type": "code",
   "execution_count": 9,
   "metadata": {},
   "outputs": [
    {
     "data": {
      "text/plain": [
       "torch.Size([228146, 3, 2])"
      ]
     },
     "execution_count": 9,
     "metadata": {},
     "output_type": "execute_result"
    }
   ],
   "source": [
    "# Now we can embedd the inputs using the feature vector.\n",
    "embedding = C[X]\n",
    "embedding.shape\n",
    "# At this point, we have a tensor that is:\n",
    "#   NUM_TRAINING_EXAMPLES by CONTEXT_SIZE (block_size) by NUM_DIM_FEATURE_VEC\n",
    "\n",
    "# This embedding is the first layer of our network (layer 0)."
   ]
  },
  {
   "cell_type": "code",
   "execution_count": 10,
   "metadata": {},
   "outputs": [
    {
     "data": {
      "text/plain": [
       "torch.Size([6, 100])"
      ]
     },
     "execution_count": 10,
     "metadata": {},
     "output_type": "execute_result"
    }
   ],
   "source": [
    "# For the next layer of our network we are going to set up a list of neurons.\n",
    "NUM_LAYER1_NEURONS = 100\n",
    "# The number of inputs will be block_size times the feature vector size.\n",
    "L1_INPUT_SIZE = embedding.shape[1] * embedding.shape[2]\n",
    "# We can now build our layer 1 weights and biases.\n",
    "W1 = torch.randn((L1_INPUT_SIZE, NUM_LAYER1_NEURONS))\n",
    "b1 = torch.randn(100)\n",
    "\n",
    "W1.shape"
   ]
  },
  {
   "cell_type": "code",
   "execution_count": 11,
   "metadata": {},
   "outputs": [
    {
     "data": {
      "text/plain": [
       "torch.Size([228146, 6])"
      ]
     },
     "execution_count": 11,
     "metadata": {},
     "output_type": "execute_result"
    }
   ],
   "source": [
    "# We now need to map our embeddings to the proper input shape of layer 1.\n",
    "# We could cat together the 2nd and 3rd dimensions, but that would copy the\n",
    "# entire tensor.  It's more efficient to use the \"view\" function to just\n",
    "# re-map the shape of the tensor to what we need.  So we need to leave the\n",
    "# first dimension as-is (the list of inputs), and the next 2 dimensions should \n",
    "# be viewed together.  The size is the multiplication of the 2 dimension sizes.\n",
    "embedding.view(-1, L1_INPUT_SIZE).shape"
   ]
  },
  {
   "cell_type": "code",
   "execution_count": 12,
   "metadata": {},
   "outputs": [
    {
     "data": {
      "text/plain": [
       "torch.Size([228146, 100])"
      ]
     },
     "execution_count": 12,
     "metadata": {},
     "output_type": "execute_result"
    }
   ],
   "source": [
    "# We can now computer our hidden layer outputs.  It is just:\n",
    "#   h = Wx + b -> tanh() for non-linearity\n",
    "h = torch.tanh(embedding.view(-1, L1_INPUT_SIZE) @ W1 + b1)\n",
    "h.shape"
   ]
  },
  {
   "cell_type": "code",
   "execution_count": 13,
   "metadata": {},
   "outputs": [
    {
     "data": {
      "text/plain": [
       "torch.Size([228146, 27])"
      ]
     },
     "execution_count": 13,
     "metadata": {},
     "output_type": "execute_result"
    }
   ],
   "source": [
    "# Our second layer is going to map from the 100 neurons in the first layer to\n",
    "# 27 outputs.  The probability for each character.\n",
    "W2 = torch.randn((100, 27))\n",
    "b2 = torch.randn(27)\n",
    "\n",
    "# We can multiply to get our output, logits = W2 x + b\n",
    "logits = h @ W2 + b2\n",
    "logits.shape"
   ]
  },
  {
   "cell_type": "code",
   "execution_count": 14,
   "metadata": {},
   "outputs": [
    {
     "data": {
      "text/plain": [
       "torch.Size([228146, 27])"
      ]
     },
     "execution_count": 14,
     "metadata": {},
     "output_type": "execute_result"
    }
   ],
   "source": [
    "# Exponitiate the logs to get counts\n",
    "counts = logits.exp()\n",
    "\n",
    "# Convert to probabilities.\n",
    "prob = counts / counts.sum(1, keepdim=True)\n",
    "prob.shape"
   ]
  },
  {
   "cell_type": "code",
   "execution_count": 15,
   "metadata": {},
   "outputs": [
    {
     "data": {
      "text/plain": [
       "tensor([4.7997e-11, 8.5683e-07, 6.5837e-17,  ..., 6.6609e-08, 4.4483e-07,\n",
       "        6.2087e-10])"
      ]
     },
     "execution_count": 15,
     "metadata": {},
     "output_type": "execute_result"
    }
   ],
   "source": [
    "# Spot-check the predictions for every output.\n",
    "prob[torch.arange(Y.shape[0]), Y]"
   ]
  },
  {
   "cell_type": "code",
   "execution_count": 16,
   "metadata": {},
   "outputs": [
    {
     "data": {
      "text/plain": [
       "tensor(16.7701)"
      ]
     },
     "execution_count": 16,
     "metadata": {},
     "output_type": "execute_result"
    }
   ],
   "source": [
    "# Calculate the loss.\n",
    "loss = -prob[torch.arange(Y.shape[0]), Y].log().mean()\n",
    "loss"
   ]
  },
  {
   "cell_type": "code",
   "execution_count": 37,
   "metadata": {},
   "outputs": [
    {
     "data": {
      "text/plain": [
       "3481"
      ]
     },
     "execution_count": 37,
     "metadata": {},
     "output_type": "execute_result"
    }
   ],
   "source": [
    "# Okay, now do it the clean way.\n",
    "\n",
    "g = torch.Generator().manual_seed(1337)\n",
    "C = torch.randn((27, 2))\n",
    "W1 = torch.randn((L1_INPUT_SIZE, NUM_LAYER1_NEURONS))\n",
    "b1 = torch.randn(NUM_LAYER1_NEURONS)\n",
    "W2 = torch.randn((NUM_LAYER1_NEURONS, 27))\n",
    "b2 = torch.randn(27)\n",
    "parameters = [C, W1, b1, W2, b2]\n",
    "for p in parameters:\n",
    "    p.requires_grad = True\n",
    "sum(p.nelement() for p in parameters) # Show number of parameters in the network."
   ]
  },
  {
   "cell_type": "code",
   "execution_count": 41,
   "metadata": {},
   "outputs": [
    {
     "name": "stdout",
     "output_type": "stream",
     "text": [
      "2.2478997707366943\n"
     ]
    }
   ],
   "source": [
    "for train_count in range(8000):\n",
    "    # Build a small batch of training data.  We want to select random items from our\n",
    "    # huge training set.  So use random int to pick 32 items out of our huge list.\n",
    "    batch_indexs = torch.randint(0, X.shape[0], (32,))\n",
    "\n",
    "    # Forward pass.\n",
    "    embedding = C[X[batch_indexs]]\n",
    "    h = torch.tanh(embedding.view(-1, L1_INPUT_SIZE) @ W1 + b1)\n",
    "    logits = h @ W2 + b2\n",
    "\n",
    "    # These next three are \"grading\" the system.  Classification is a typical AI task,\n",
    "    # so they call the grading against truth \"cross entropy\".  We can just use the function.\n",
    "    # Using the function in torch is far more efficient than calculating all of the intermediate\n",
    "    # values and doing the math explicitly.\n",
    "    # counts = logits.exp()\n",
    "    # prob = counts / counts.sum(1, keepdim=True)\n",
    "    # loss = -prob[torch.arange(Y.shape[0]), Y].log().mean()\n",
    "    loss = F.cross_entropy(logits, Y[batch_indexs])\n",
    "\n",
    "    # Backward pass.\n",
    "    TRAINING_RATE = 0.01\n",
    "\n",
    "    # First reset the gradient on all params.\n",
    "    for p in parameters:\n",
    "        p.grad = None\n",
    "    loss.backward()\n",
    "    # Update values.\n",
    "    for p in parameters:\n",
    "        p.data += -TRAINING_RATE * p.grad\n",
    "print(loss.item())"
   ]
  },
  {
   "cell_type": "code",
   "execution_count": 42,
   "metadata": {},
   "outputs": [
    {
     "data": {
      "text/plain": [
       "2.2147510051727295"
      ]
     },
     "execution_count": 42,
     "metadata": {},
     "output_type": "execute_result"
    }
   ],
   "source": [
    "embedding = C[X[batch_indexs]]\n",
    "h = torch.tanh(embedding.view(-1, L1_INPUT_SIZE) @ W1 + b1)\n",
    "logits = h @ W2 + b2\n",
    "loss = F.cross_entropy(logits, Y[batch_indexs])\n",
    "loss.item()"
   ]
  },
  {
   "cell_type": "code",
   "execution_count": 43,
   "metadata": {},
   "outputs": [
    {
     "name": "stdout",
     "output_type": "stream",
     "text": [
      "caoldaanyx\n",
      "baz\n",
      "den\n",
      "ivaedohie\n",
      "ra\n",
      "jara\n",
      "mees\n",
      "ba\n",
      "mirohas\n",
      "hvee\n",
      "mmylezancesra\n",
      "xze\n",
      "mtynihe\n",
      "kica\n",
      "sangeholys\n",
      "iuheliy\n",
      "kiy\n",
      "mannlir\n",
      "aha\n",
      "mtriahir\n",
      "haclesnan\n",
      "asehulil\n",
      "arut\n",
      "dayzyrlayni\n",
      "ey\n"
     ]
    }
   ],
   "source": [
    "# With a trained model we can now sample from it.\n",
    "\n",
    "# g = torch.Generator().manual_seed(2147483647 + 1)\n",
    "\n",
    "for _ in range(25):\n",
    "    out = []\n",
    "    context = [0] * block_size\n",
    "    while True:\n",
    "        embedding = C[torch.tensor(context)]  # (1, block_size, d)\n",
    "        h = torch.tanh(embedding.view(-1, L1_INPUT_SIZE) @ W1 + b1)\n",
    "        logits = h @ W2 + b2\n",
    "        probs = F.softmax(logits, dim=1)\n",
    "        next_letter_i = torch.multinomial(probs, num_samples=1, generator=g).item()\n",
    "        if next_letter_i == 0:\n",
    "            break\n",
    "        out.append(itos[next_letter_i])\n",
    "        context = context[1:] + [next_letter_i]\n",
    "    print(''.join(out))"
   ]
  },
  {
   "cell_type": "code",
   "execution_count": 46,
   "metadata": {},
   "outputs": [
    {
     "data": {
      "image/png": "[encoded data removed]",
      "text/plain": [
       "<Figure size 800x800 with 1 Axes>"
      ]
     },
     "metadata": {},
     "output_type": "display_data"
    }
   ],
   "source": [
    "# Visualize dimensions 0 and 1 of the embedding matrix C for all characters.\n",
    "plt.figure(figsize=(8,8))\n",
    "plt.scatter(C[:,0].data, C[:,1].data, s=200)\n",
    "for i in range(C.shape[0]):\n",
    "    plt.text(C[i,0].item(), C[i,1].item(), itos[i], ha=\"center\", va=\"center\", color='white')\n",
    "plt.grid('minor')"
   ]
  }
 ],
 "metadata": {
  "kernelspec": {
   "display_name": "base",
   "language": "python",
   "name": "python3"
  },
  "language_info": {
   "codemirror_mode": {
    "name": "ipython",
    "version": 3
   },
   "file_extension": ".py",
   "mimetype": "text/x-python",
   "name": "python",
   "nbconvert_exporter": "python",
   "pygments_lexer": "ipython3",
   "version": "3.9.13"
  },
  "orig_nbformat": 4,
  "vscode": {
   "interpreter": {
    "hash": "43dd406cf07603aefb2bc1f435b01d13dd3834c8eeb71afea2303e52aded1d18"
   }
  }
 },
 "nbformat": 4,
 "nbformat_minor": 2
}
